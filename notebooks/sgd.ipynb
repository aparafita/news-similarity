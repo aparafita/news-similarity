{
 "cells": [
  {
   "cell_type": "code",
   "execution_count": 35,
   "metadata": {
    "collapsed": true
   },
   "outputs": [],
   "source": [
    "import os.path\n",
    "import json\n",
    "from collections import defaultdict\n",
    "\n",
    "import newsbreaker\n",
    "from newsbreaker.data import load_entries\n",
    "\n",
    "from pymongo import MongoClient\n",
    "\n",
    "import autograd.numpy as np\n",
    "from autograd import grad\n",
    "\n",
    "import pandas as pd\n",
    "%matplotlib inline\n",
    "\n",
    "from sklearn import cross_validation"
   ]
  },
  {
   "cell_type": "markdown",
   "metadata": {},
   "source": [
    "# Initialization"
   ]
  },
  {
   "cell_type": "code",
   "execution_count": 2,
   "metadata": {
    "collapsed": true
   },
   "outputs": [],
   "source": [
    "folder = os.path.join('..', 'data')"
   ]
  },
  {
   "cell_type": "code",
   "execution_count": 3,
   "metadata": {
    "collapsed": false
   },
   "outputs": [],
   "source": [
    "newsbreaker.init(os.path.join(folder, 'topic_model'), 'topic_model.pkl', 'vocab.txt')"
   ]
  },
  {
   "cell_type": "code",
   "execution_count": 4,
   "metadata": {
    "collapsed": true
   },
   "outputs": [],
   "source": [
    "entries = load_entries(folder)"
   ]
  },
  {
   "cell_type": "code",
   "execution_count": 5,
   "metadata": {
    "collapsed": true
   },
   "outputs": [],
   "source": [
    "entries_dict = defaultdict(list)\n",
    "\n",
    "for entry in entries:\n",
    "    entries_dict[entry.feed].append(entry)"
   ]
  },
  {
   "cell_type": "code",
   "execution_count": 6,
   "metadata": {
    "collapsed": false
   },
   "outputs": [],
   "source": [
    "client = MongoClient()\n",
    "db = client.newstagger"
   ]
  },
  {
   "cell_type": "markdown",
   "metadata": {},
   "source": [
    "# Algorithm"
   ]
  },
  {
   "cell_type": "code",
   "execution_count": 7,
   "metadata": {
    "collapsed": true
   },
   "outputs": [],
   "source": [
    "def get_entry(s):\n",
    "    feedname, index = s.split('|')\n",
    "    try:\n",
    "        index = int(index)\n",
    "    except ValueError:\n",
    "        raise KeyError('Malformed entry %s' % s)\n",
    "    \n",
    "    for feed, l in entries_dict.items():\n",
    "        if feed.name == feedname:\n",
    "            for entry in l:\n",
    "                if entry.index == index:\n",
    "                    return entry\n",
    "            else:\n",
    "                break\n",
    "    \n",
    "    raise KeyError('Entry %s not found' % s)"
   ]
  },
  {
   "cell_type": "code",
   "execution_count": null,
   "metadata": {
    "collapsed": false,
    "scrolled": true
   },
   "outputs": [],
   "source": [
    "coefs = []\n",
    "Y = []\n",
    "tests = list(db.pairs.find())\n",
    "\n",
    "for test in tests:\n",
    "    base = get_entry(test['base'])\n",
    "    e1 = get_entry(test['e1'])\n",
    "    e2 = get_entry(test['e2'])\n",
    "    \n",
    "    coefs.append(\n",
    "        [\n",
    "            [\n",
    "                base.what_distance(e1),\n",
    "                base.who_distance(e1),\n",
    "                base.where_distance(e1)\n",
    "            ],\n",
    "            [\n",
    "                base.what_distance(e2),\n",
    "                base.who_distance(e2),\n",
    "                base.where_distance(e2)\n",
    "            ]\n",
    "        ]\n",
    "    )\n",
    "    \n",
    "    Y.append(float(test['res']))"
   ]
  },
  {
   "cell_type": "markdown",
   "metadata": {},
   "source": [
    "Save coefs (X) and Y, along with tests (to know what each row refers to) to work with it later"
   ]
  },
  {
   "cell_type": "code",
   "execution_count": 18,
   "metadata": {
    "collapsed": true
   },
   "outputs": [],
   "source": [
    "with open('X.txt', 'w') as f:\n",
    "    f.write('\\n'.join(str(x) for x in coefs))"
   ]
  },
  {
   "cell_type": "code",
   "execution_count": 19,
   "metadata": {
    "collapsed": true
   },
   "outputs": [],
   "source": [
    "with open('Y.txt', 'w') as f:\n",
    "    f.write('\\n'.join(str(x) for x in Y))"
   ]
  },
  {
   "cell_type": "code",
   "execution_count": 15,
   "metadata": {
    "collapsed": false
   },
   "outputs": [],
   "source": [
    "import json\n",
    "\n",
    "with open('tests.json', 'w') as f:\n",
    "    f.write(\n",
    "        json.dumps(\n",
    "            [\n",
    "                { k: v for k, v in d.items() if k != '_id' }\n",
    "                for d in tests\n",
    "            ], \n",
    "            indent=2\n",
    "        )\n",
    "    )"
   ]
  },
  {
   "cell_type": "markdown",
   "metadata": {},
   "source": [
    "# What without NEs"
   ]
  },
  {
   "cell_type": "code",
   "execution_count": 38,
   "metadata": {
    "collapsed": true
   },
   "outputs": [],
   "source": [
    "from collections import Counter\n",
    "\n",
    "def what_without_ne(entry):\n",
    "    entry.doc(tag=True, parse=False, entity=True)\n",
    "    \n",
    "    avoid_ent_cats = set(entry.who_ne_cats)\n",
    "    avoid_ent_cats.update(entry.where_ne_cats)\n",
    "    \n",
    "    avoid_ents = [\n",
    "        (ent.start, ent.end)\n",
    "        for ent in entry.doc.ents\n",
    "        if ent.label_ in avoid_ent_cats\n",
    "    ]\n",
    "    \n",
    "    words = []\n",
    "    doc_words = list(entry.doc)\n",
    "    \n",
    "    while doc_words and avoid_ents:\n",
    "        i = doc_words[0].i\n",
    "            \n",
    "        low, high = avoid_ents[0]\n",
    "        \n",
    "        if i < low:\n",
    "            words.append(doc_words.pop(0))\n",
    "        elif low <= i and i < high:\n",
    "            doc_words.pop(0) # but don't save it, since is part of NE\n",
    "        else: # low < high <= i\n",
    "            avoid_ents.pop(0) # delete ent, since we overpassed it\n",
    "            \n",
    "    words += doc_words # no more ents to filter with\n",
    "    \n",
    "    counter = Counter(\n",
    "        word.lower_\n",
    "        for word in words\n",
    "    )\n",
    "    \n",
    "    entry._what = entry.topic_model.model.transform(\n",
    "        np.array([ counter[word] for word in entry.topic_model.vocab ])\n",
    "    )"
   ]
  },
  {
   "cell_type": "code",
   "execution_count": null,
   "metadata": {
    "collapsed": false,
    "scrolled": true
   },
   "outputs": [],
   "source": [
    "not_ne_what_coefs = []\n",
    "\n",
    "for test in tests:\n",
    "    base = get_entry(test['base'])\n",
    "    what_without_ne(base)\n",
    "    \n",
    "    e1 = get_entry(test['e1'])\n",
    "    what_without_ne(e1)\n",
    "    \n",
    "    e2 = get_entry(test['e2'])\n",
    "    what_without_ne(e2)\n",
    "    \n",
    "    not_ne_what_coefs.append(\n",
    "        [\n",
    "            base.what_distance(e1),\n",
    "            base.what_distance(e2)\n",
    "        ]\n",
    "    )"
   ]
  },
  {
   "cell_type": "markdown",
   "metadata": {},
   "source": [
    "# SGD"
   ]
  },
  {
   "cell_type": "code",
   "execution_count": 16,
   "metadata": {
    "collapsed": false
   },
   "outputs": [],
   "source": [
    "with open('X.txt') as f:\n",
    "    coefs = [eval(x) for x in f.read().split('\\n')]"
   ]
  },
  {
   "cell_type": "code",
   "execution_count": 17,
   "metadata": {
    "collapsed": false
   },
   "outputs": [],
   "source": [
    "with open('Y.txt') as f:\n",
    "    Y = [float(x) for x in f.read().split('\\n')]"
   ]
  },
  {
   "cell_type": "code",
   "execution_count": 36,
   "metadata": {
    "collapsed": false
   },
   "outputs": [],
   "source": [
    "with open('tests.json') as f:\n",
    "    tests = json.loads(f.read())"
   ]
  },
  {
   "cell_type": "code",
   "execution_count": 40,
   "metadata": {
    "collapsed": false
   },
   "outputs": [],
   "source": [
    "X_copy = list(coefs); Y_copy = list(Y)"
   ]
  },
  {
   "cell_type": "code",
   "execution_count": 41,
   "metadata": {
    "collapsed": true
   },
   "outputs": [],
   "source": [
    "X = np.array(\n",
    "    [\n",
    "        [\n",
    "            v1[i] - v2[i]\n",
    "            for i in range(3)\n",
    "        ]\n",
    "        \n",
    "        for v1, v2 in coefs\n",
    "    ]\n",
    ")\n",
    "\n",
    "Y = np.array(Y)"
   ]
  },
  {
   "cell_type": "code",
   "execution_count": 42,
   "metadata": {
    "collapsed": false
   },
   "outputs": [],
   "source": [
    "X_not_ne_what = np.array(\n",
    "    [\n",
    "        [\n",
    "            not_ne_what_coefs[n][0] - not_ne_what_coefs[n][1],\n",
    "            row[1], row[2]\n",
    "        ]\n",
    "        \n",
    "        for n, row in enumerate(X)\n",
    "    ]\n",
    ")"
   ]
  },
  {
   "cell_type": "code",
   "execution_count": 43,
   "metadata": {
    "collapsed": true
   },
   "outputs": [],
   "source": [
    "def sigmoid(x, gamma=1.):\n",
    "    return 1.0 / (1.0 + np.exp(-gamma * x))"
   ]
  },
  {
   "cell_type": "code",
   "execution_count": 44,
   "metadata": {
    "collapsed": false
   },
   "outputs": [],
   "source": [
    "def cost(theta, X=None, Y=None): # theta is np.array    \n",
    "    return np.sum(\n",
    "        (sigmoid(np.dot(X, np.abs(theta))) - Y) ** 2\n",
    "    ) / len(X)"
   ]
  },
  {
   "cell_type": "code",
   "execution_count": 45,
   "metadata": {
    "collapsed": true
   },
   "outputs": [],
   "source": [
    "grad_cost = grad(cost)"
   ]
  },
  {
   "cell_type": "code",
   "execution_count": 46,
   "metadata": {
    "collapsed": true
   },
   "outputs": [],
   "source": [
    "class SGD:\n",
    "    \n",
    "    def __init__(self, learning=0.5, max_iters=10**5, prec=10**-3):\n",
    "        self.learning = learning\n",
    "        self.max_iters = max_iters\n",
    "        self.prec = prec\n",
    "        \n",
    "        self.theta = None\n",
    "        \n",
    "        self._iters = None\n",
    "        self._costs = None\n",
    "        \n",
    "        \n",
    "    def get_params(self, deep=True):\n",
    "        return {\n",
    "            'learning': self.learning,\n",
    "            'max_iters': self.max_iters,\n",
    "            'prec': self.prec\n",
    "        }\n",
    "    \n",
    "    \n",
    "    @property\n",
    "    def iters(self):\n",
    "        if self._iters is None:\n",
    "            raise Exception('SGD must be fitted to access iters')\n",
    "        \n",
    "        return self._iters\n",
    "    \n",
    "    @iters.setter\n",
    "    def iters(self, value): self._iters = value\n",
    "        \n",
    "        \n",
    "    @property\n",
    "    def costs(self):\n",
    "        if self._costs is None:\n",
    "            raise Exception('SGD must be fitted to access costs')\n",
    "        \n",
    "        return self._costs\n",
    "    \n",
    "    @costs.setter\n",
    "    def costs(self, value): self._costs = value\n",
    "        \n",
    "    \n",
    "    def fit(self, X, Y):\n",
    "        self.iters = 0\n",
    "        self.costs = []\n",
    "        theta = np.random.random(3)\n",
    "    \n",
    "        while self.iters < self.max_iters: \n",
    "            self.iters += 1\n",
    "            self.costs.append(cost(theta, X=X, Y=Y))\n",
    "            \n",
    "            prev_theta = theta.copy()\n",
    "            theta -= self.learning * grad_cost(theta, X=X, Y=Y)\n",
    "\n",
    "            if np.linalg.norm(theta - prev_theta) < self.prec:\n",
    "                break\n",
    "        \n",
    "        self.costs.append(cost(theta, X=X, Y=Y))\n",
    "        self.theta = theta\n",
    "        return self\n",
    "    \n",
    "    \n",
    "    def score(self, X, Y):\n",
    "        return sum(\n",
    "            (not ((pred > 0.) ^ (cls > 0.))) if pred != 0. else 0.\n",
    "            for pred, cls in zip(np.dot(X, self.theta), Y)\n",
    "        ) / len(Y)"
   ]
  },
  {
   "cell_type": "code",
   "execution_count": 47,
   "metadata": {
    "collapsed": true
   },
   "outputs": [],
   "source": [
    "class WhatSGD(SGD):\n",
    "    \n",
    "    def fit(self, X, Y):\n",
    "        self.theta = np.array([1., 0., 0.])\n",
    "        return self"
   ]
  },
  {
   "cell_type": "markdown",
   "metadata": {},
   "source": [
    "## Simple trial"
   ]
  },
  {
   "cell_type": "code",
   "execution_count": 48,
   "metadata": {
    "collapsed": true
   },
   "outputs": [],
   "source": [
    "threshold = int(len(X) * 0.9)\n",
    "X_train, X_test = X[:threshold], X[threshold:]\n",
    "Y_train, Y_test = Y[:threshold], Y[threshold:]"
   ]
  },
  {
   "cell_type": "code",
   "execution_count": 49,
   "metadata": {
    "collapsed": false
   },
   "outputs": [
    {
     "data": {
      "text/plain": [
       "<__main__.SGD at 0x129d14c50>"
      ]
     },
     "execution_count": 49,
     "metadata": {},
     "output_type": "execute_result"
    }
   ],
   "source": [
    "trained_sgd = SGD()\n",
    "trained_sgd.fit(X_train, Y_train)"
   ]
  },
  {
   "cell_type": "code",
   "execution_count": 50,
   "metadata": {
    "collapsed": false
   },
   "outputs": [
    {
     "data": {
      "text/plain": [
       "<matplotlib.axes._subplots.AxesSubplot at 0x129c6d0f0>"
      ]
     },
     "execution_count": 50,
     "metadata": {},
     "output_type": "execute_result"
    },
    {
     "data": {
      "image/png": "[encoded data removed]",
      "text/plain": [
       "<matplotlib.figure.Figure at 0x129d14390>"
      ]
     },
     "metadata": {},
     "output_type": "display_data"
    }
   ],
   "source": [
    "pd.Series(trained_sgd.costs).plot() # error on each iteration"
   ]
  },
  {
   "cell_type": "markdown",
   "metadata": {},
   "source": [
    "# Run cross validation for each model"
   ]
  },
  {
   "cell_type": "code",
   "execution_count": 51,
   "metadata": {
    "collapsed": true
   },
   "outputs": [],
   "source": [
    "X_not_what = X.copy()\n",
    "\n",
    "for row in X_not_what:\n",
    "    row[0] = 0"
   ]
  },
  {
   "cell_type": "code",
   "execution_count": 52,
   "metadata": {
    "collapsed": true
   },
   "outputs": [],
   "source": [
    "sgd = SGD()\n",
    "what_sgd = WhatSGD()\n",
    "sgd_not_what = SGD()"
   ]
  },
  {
   "cell_type": "code",
   "execution_count": 53,
   "metadata": {
    "collapsed": false
   },
   "outputs": [],
   "source": [
    "rows = []\n",
    "\n",
    "for i in range(2, 20 + 1):\n",
    "    rows.append(\n",
    "        [\n",
    "            cross_validation.cross_val_score(\n",
    "                sgd, X, Y, cv=i\n",
    "            ), \n",
    "            cross_validation.cross_val_score(\n",
    "                sgd, X_not_ne_what, Y, cv=i\n",
    "            ), \n",
    "            cross_validation.cross_val_score(\n",
    "                what_sgd, X, Y, cv=i\n",
    "            ),\n",
    "            cross_validation.cross_val_score(\n",
    "                what_sgd, X_not_ne_what, Y, cv=i\n",
    "            )\n",
    "        ]\n",
    "    )\n",
    "    \n",
    "for n, i in enumerate(range(2, 20 + 1)):\n",
    "    rows[n].append(\n",
    "        cross_validation.cross_val_score(\n",
    "            sgd_not_what, X_not_what, Y, cv=i\n",
    "        )\n",
    "    )"
   ]
  },
  {
   "cell_type": "code",
   "execution_count": 54,
   "metadata": {
    "collapsed": false
   },
   "outputs": [
    {
     "data": {
      "text/plain": [
       "<matplotlib.axes._subplots.AxesSubplot at 0x176ba9400>"
      ]
     },
     "execution_count": 54,
     "metadata": {},
     "output_type": "execute_result"
    },
    {
     "data": {
      "image/png": "[encoded data removed]",
      "text/plain": [
       "<matplotlib.figure.Figure at 0x16dd9d3c8>"
      ]
     },
     "metadata": {},
     "output_type": "display_data"
    },
    {
     "data": {
      "image/png": "[encoded data removed]",
      "text/plain": [
       "<matplotlib.figure.Figure at 0x16dd9d358>"
      ]
     },
     "metadata": {},
     "output_type": "display_data"
    }
   ],
   "source": [
    "df = pd.DataFrame(\n",
    "    [[s.mean() for s in row] for row in rows],\n",
    "    columns=['sgd, what with NE', 'sgd, what without NE', 'what with NE', 'what without NE', 'sgd without what'],\n",
    "    index=[100 - 100 // i for i in range(2, 20 + 1)]\n",
    ")\n",
    "\n",
    "df.plot(ylim=(0, 1))\n",
    "df.plot()"
   ]
  },
  {
   "cell_type": "code",
   "execution_count": 118,
   "metadata": {
    "collapsed": false
   },
   "outputs": [
    {
     "data": {
      "text/plain": [
       "sgd, what with NE       0.888554\n",
       "sgd, what without NE    0.889896\n",
       "what with NE            0.863847\n",
       "what without NE         0.850207\n",
       "dtype: float64"
      ]
     },
     "execution_count": 118,
     "metadata": {},
     "output_type": "execute_result"
    }
   ],
   "source": [
    "df.mean()"
   ]
  },
  {
   "cell_type": "code",
   "execution_count": 119,
   "metadata": {
    "collapsed": false
   },
   "outputs": [
    {
     "data": {
      "text/plain": [
       "sgd, what with NE       0.890741\n",
       "sgd, what without NE    0.891056\n",
       "what with NE            0.863964\n",
       "what without NE         0.850315\n",
       "dtype: float64"
      ]
     },
     "execution_count": 119,
     "metadata": {},
     "output_type": "execute_result"
    }
   ],
   "source": [
    "df[df.index > 75].mean()"
   ]
  },
  {
   "cell_type": "code",
   "execution_count": 121,
   "metadata": {
    "collapsed": false
   },
   "outputs": [
    {
     "data": {
      "text/plain": [
       "sgd, what with NE       0.893258\n",
       "sgd, what without NE    0.893134\n",
       "what with NE            0.864073\n",
       "what without NE         0.850366\n",
       "dtype: float64"
      ]
     },
     "execution_count": 121,
     "metadata": {},
     "output_type": "execute_result"
    }
   ],
   "source": [
    "df[df.index > 90].mean()"
   ]
  },
  {
   "cell_type": "markdown",
   "metadata": {},
   "source": [
    "# Scores of each model"
   ]
  },
  {
   "cell_type": "code",
   "execution_count": 104,
   "metadata": {
    "collapsed": false
   },
   "outputs": [
    {
     "data": {
      "text/plain": [
       "(array([ 0.93333333,  0.73333333,  0.93333333,  0.86666667,  0.93333333,\n",
       "         0.6       ,  1.        ,  0.85714286,  1.        ,  1.        ]),\n",
       " 0.88571428571428579)"
      ]
     },
     "execution_count": 104,
     "metadata": {},
     "output_type": "execute_result"
    }
   ],
   "source": [
    "scores = cross_validation.cross_val_score(\n",
    "    sgd, X, Y, cv=10\n",
    ")\n",
    "\n",
    "scores, scores.mean()"
   ]
  },
  {
   "cell_type": "code",
   "execution_count": 105,
   "metadata": {
    "collapsed": false
   },
   "outputs": [
    {
     "data": {
      "text/plain": [
       "(array([ 0.93333333,  0.73333333,  0.93333333,  0.93333333,  0.93333333,\n",
       "         0.66666667,  1.        ,  0.78571429,  1.        ,  1.        ]),\n",
       " 0.89190476190476198)"
      ]
     },
     "execution_count": 105,
     "metadata": {},
     "output_type": "execute_result"
    }
   ],
   "source": [
    "scores = cross_validation.cross_val_score(\n",
    "    sgd, X_not_ne_what, Y, cv=10\n",
    ")\n",
    "\n",
    "scores, scores.mean()"
   ]
  },
  {
   "cell_type": "code",
   "execution_count": 106,
   "metadata": {
    "collapsed": false
   },
   "outputs": [
    {
     "data": {
      "text/plain": [
       "(array([ 0.86666667,  0.73333333,  1.        ,  0.86666667,  0.8       ,\n",
       "         0.53333333,  1.        ,  0.92857143,  1.        ,  0.92857143]),\n",
       " 0.86571428571428566)"
      ]
     },
     "execution_count": 106,
     "metadata": {},
     "output_type": "execute_result"
    }
   ],
   "source": [
    "scores = cross_validation.cross_val_score(\n",
    "    what_sgd, X, Y, cv=10\n",
    ")\n",
    "\n",
    "scores, scores.mean()"
   ]
  },
  {
   "cell_type": "code",
   "execution_count": 107,
   "metadata": {
    "collapsed": false
   },
   "outputs": [
    {
     "data": {
      "text/plain": [
       "(array([ 0.93333333,  0.6       ,  0.93333333,  0.86666667,  0.8       ,\n",
       "         0.6       ,  1.        ,  0.85714286,  1.        ,  0.92857143]),\n",
       " 0.85190476190476194)"
      ]
     },
     "execution_count": 107,
     "metadata": {},
     "output_type": "execute_result"
    }
   ],
   "source": [
    "scores = cross_validation.cross_val_score(\n",
    "    what_sgd, X_not_ne_what, Y, cv=10\n",
    ")\n",
    "\n",
    "scores, scores.mean()"
   ]
  },
  {
   "cell_type": "code",
   "execution_count": 31,
   "metadata": {
    "collapsed": false
   },
   "outputs": [
    {
     "data": {
      "text/plain": [
       "(array([ 0.86666667,  0.6       ,  0.93333333,  0.73333333,  0.93333333,\n",
       "         0.93333333,  0.92857143,  0.71428571,  0.92857143,  0.92857143]),\n",
       " 0.84999999999999998)"
      ]
     },
     "execution_count": 31,
     "metadata": {},
     "output_type": "execute_result"
    }
   ],
   "source": [
    "sgd_not_what = SGD()\n",
    "scores = cross_validation.cross_val_score(\n",
    "    sgd_not_what, X_not_what, Y, cv=10\n",
    ")\n",
    "\n",
    "scores, scores.mean()"
   ]
  },
  {
   "cell_type": "markdown",
   "metadata": {},
   "source": [
    "# Final results"
   ]
  },
  {
   "cell_type": "code",
   "execution_count": 122,
   "metadata": {
    "collapsed": false
   },
   "outputs": [
    {
     "data": {
      "text/plain": [
       "<__main__.SGD at 0x154587f98>"
      ]
     },
     "execution_count": 122,
     "metadata": {},
     "output_type": "execute_result"
    }
   ],
   "source": [
    "sgd = SGD()\n",
    "sgd.fit(X, Y)"
   ]
  },
  {
   "cell_type": "code",
   "execution_count": 35,
   "metadata": {
    "collapsed": false
   },
   "outputs": [
    {
     "data": {
      "text/plain": [
       "(0.071000318084466746, 0.21243174195639319)"
      ]
     },
     "execution_count": 35,
     "metadata": {},
     "output_type": "execute_result"
    }
   ],
   "source": [
    "cost(sgd.theta, X, Y), cost(sgd.theta / sgd.theta.sum(), X, Y)"
   ]
  },
  {
   "cell_type": "markdown",
   "metadata": {},
   "source": [
    "The one not normalised gets less error due to the fact that bigger absolute values make sigmoid closer to 1 or 0, thus reducing the error. Anyhow, the desired value is the one normalised (values must sum 1)"
   ]
  },
  {
   "cell_type": "code",
   "execution_count": 123,
   "metadata": {
    "collapsed": false
   },
   "outputs": [
    {
     "data": {
      "text/plain": [
       "(array([ 6.22461219,  5.57323577,  5.22079321]),\n",
       " array([ 0.3657526 ,  0.32747831,  0.3067691 ]))"
      ]
     },
     "execution_count": 123,
     "metadata": {},
     "output_type": "execute_result"
    }
   ],
   "source": [
    "sgd.theta, sgd.theta / sgd.theta.sum()"
   ]
  },
  {
   "cell_type": "code",
   "execution_count": 125,
   "metadata": {
    "collapsed": false
   },
   "outputs": [
    {
     "data": {
      "text/plain": [
       "<__main__.SGD at 0x1540087f0>"
      ]
     },
     "execution_count": 125,
     "metadata": {},
     "output_type": "execute_result"
    }
   ],
   "source": [
    "sgd = SGD()\n",
    "sgd.fit(X_not_ne_what, Y)"
   ]
  },
  {
   "cell_type": "code",
   "execution_count": 126,
   "metadata": {
    "collapsed": false
   },
   "outputs": [
    {
     "data": {
      "text/plain": [
       "(array([ 6.23380888,  5.47779867,  4.87390334]),\n",
       " array([ 0.37585872,  0.33027615,  0.29386513]))"
      ]
     },
     "execution_count": 126,
     "metadata": {},
     "output_type": "execute_result"
    }
   ],
   "source": [
    "sgd.theta, sgd.theta / sgd.theta.sum()"
   ]
  },
  {
   "cell_type": "markdown",
   "metadata": {},
   "source": [
    "Notice how with not-ne-what What becomes slightly more important (maybe because it doesn't lose accuracy due to NE mistreatment?). Even if the resulting accuracy is the same but more stable, the other system makes What be more easily computed in terms of performance, so it would still be the selected approach, because the algorithm is slow enough already. In next steps, when the algorithm is optimised, working with not-ne-what would be a good idea."
   ]
  },
  {
   "cell_type": "markdown",
   "metadata": {},
   "source": [
    "Finally, by checking what would be the values with just Who and Where:"
   ]
  },
  {
   "cell_type": "code",
   "execution_count": 64,
   "metadata": {
    "collapsed": false
   },
   "outputs": [
    {
     "data": {
      "text/plain": [
       "array([ 0.        ,  0.61922324,  0.38077676])"
      ]
     },
     "execution_count": 64,
     "metadata": {},
     "output_type": "execute_result"
    }
   ],
   "source": [
    "sgd_not_what = SGD()\n",
    "sgd_not_what.fit(X_not_what, Y)\n",
    "\n",
    "(sgd_not_what.theta - np.array([sgd_not_what.theta[0], 0., 0.])) / sgd_not_what.theta[1:].sum()"
   ]
  },
  {
   "cell_type": "markdown",
   "metadata": {},
   "source": [
    "Who is really the most important of the two, almost twice"
   ]
  }
 ],
 "metadata": {
  "kernelspec": {
   "display_name": "Python 3",
   "language": "python",
   "name": "python3"
  },
  "language_info": {
   "codemirror_mode": {
    "name": "ipython",
    "version": 3
   },
   "file_extension": ".py",
   "mimetype": "text/x-python",
   "name": "python",
   "nbconvert_exporter": "python",
   "pygments_lexer": "ipython3",
   "version": "3.4.3"
  }
 },
 "nbformat": 4,
 "nbformat_minor": 0
}
