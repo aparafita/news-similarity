{
 "cells": [
  {
   "cell_type": "code",
   "execution_count": 1,
   "metadata": {
    "collapsed": false
   },
   "outputs": [],
   "source": [
    "import os.path\n",
    "from collections import Counter\n",
    "\n",
    "import pandas as pd\n",
    "from spacy.en import English\n",
    "\n",
    "from newsparser.data import load_feeds\n",
    "\n",
    "%matplotlib inline"
   ]
  },
  {
   "cell_type": "code",
   "execution_count": 2,
   "metadata": {
    "collapsed": true
   },
   "outputs": [],
   "source": [
    "nlp = English()"
   ]
  },
  {
   "cell_type": "code",
   "execution_count": 3,
   "metadata": {
    "collapsed": true
   },
   "outputs": [],
   "source": [
    "folder = os.path.join('..', 'data')"
   ]
  },
  {
   "cell_type": "code",
   "execution_count": 4,
   "metadata": {
    "collapsed": false
   },
   "outputs": [],
   "source": [
    "feeds = load_feeds(folder)"
   ]
  },
  {
   "cell_type": "code",
   "execution_count": 5,
   "metadata": {
    "collapsed": true
   },
   "outputs": [],
   "source": [
    "entries = { feed: feed.get_entries() for feed in feeds }"
   ]
  },
  {
   "cell_type": "code",
   "execution_count": 6,
   "metadata": {
    "collapsed": false
   },
   "outputs": [],
   "source": [
    "filtered_entries = {\n",
    "    feed: [\n",
    "        entry\n",
    "        for entry in entries[feed]\n",
    "        if 'filter' in entry.data and not entry.data['filter']['discarded']\n",
    "    ]\n",
    "    for feed in feeds\n",
    "}"
   ]
  },
  {
   "cell_type": "code",
   "execution_count": 8,
   "metadata": {
    "collapsed": false
   },
   "outputs": [],
   "source": [
    "for feed in feeds:\n",
    "    for entry in filtered_entries[feed]:\n",
    "        entry.load_content()"
   ]
  },
  {
   "cell_type": "code",
   "execution_count": 9,
   "metadata": {
    "collapsed": true
   },
   "outputs": [],
   "source": [
    "def create_counter(entry):\n",
    "    \"\"\"\n",
    "        Creates a counter of words in entry.content\n",
    "        and stores it in entry.counter.\n",
    "        \n",
    "        It needs entry.doc to be defined\n",
    "    \"\"\"        \n",
    "    counter = Counter(\n",
    "        word.text\n",
    "        for word in entry.doc\n",
    "    )\n",
    "    \n",
    "    s = sum(x for x in counter.values())\n",
    "    for k in counter:\n",
    "        counter[k] /= s\n",
    "        \n",
    "    return counter"
   ]
  },
  {
   "cell_type": "code",
   "execution_count": 10,
   "metadata": {
    "collapsed": false
   },
   "outputs": [],
   "source": [
    "def intersection_dist(c1, c2):        \n",
    "    return min(1, sum(\n",
    "        min(c1[k], c2[k])\n",
    "        for k in set(c1).intersection(set(c2))\n",
    "    ))"
   ]
  },
  {
   "cell_type": "code",
   "execution_count": 11,
   "metadata": {
    "collapsed": true
   },
   "outputs": [],
   "source": [
    "def date_between(date, low=None, high=None):\n",
    "    \"\"\" \n",
    "        Returns entry.date in [low, high] \n",
    "        If high is None, high = low\n",
    "    \"\"\"    \n",
    "    b = not(date is None)\n",
    "    if not(low is None):\n",
    "        b = b and low <= date\n",
    "    if not(high is None):\n",
    "        b = b and date <= high\n",
    "        \n",
    "    return b"
   ]
  },
  {
   "cell_type": "code",
   "execution_count": 12,
   "metadata": {
    "collapsed": true
   },
   "outputs": [],
   "source": [
    "by_date_entries = {}\n",
    "\n",
    "for feed in feeds:\n",
    "    d = {}\n",
    "    \n",
    "    for entry in filtered_entries[feed]:\n",
    "        date = entry.data['date']\n",
    "        if date not in d:\n",
    "            d[date] = []\n",
    "            \n",
    "        d[date].append(entry)\n",
    "        \n",
    "    by_date_entries[feed] = d"
   ]
  },
  {
   "cell_type": "code",
   "execution_count": 30,
   "metadata": {
    "collapsed": true
   },
   "outputs": [],
   "source": [
    "day_entries = []\n",
    "\n",
    "for feed in feeds:\n",
    "    for entry in filtered_entries[feed]:\n",
    "        entry.date = create_date(entry)\n",
    "        \n",
    "        if date_between(entry.date, '2015-11-05', '2015-11-05'):\n",
    "            entry.doc = nlp(entry.content)\n",
    "            entry.counter = create_counter(entry)\n",
    "            day_entries.append(entry)"
   ]
  },
  {
   "cell_type": "code",
   "execution_count": 34,
   "metadata": {
    "collapsed": false
   },
   "outputs": [],
   "source": [
    "df = pd.DataFrame(\n",
    "    [\n",
    "        [\n",
    "            e1.feedname, e1.index, e2.feedname, e2.index,\n",
    "            intersection_dist(e1.counter, e2.counter)\n",
    "        ]\n",
    "        for i, e1 in enumerate(day_entries)\n",
    "        for e2 in day_entries[i+1:]\n",
    "    ],\n",
    "    columns=['e1_feedname', 'e1_index', 'e2_feedname', 'e2_index', 'dist']\n",
    ")       "
   ]
  },
  {
   "cell_type": "markdown",
   "metadata": {},
   "source": [
    "# What is the threshold?"
   ]
  },
  {
   "cell_type": "code",
   "execution_count": 64,
   "metadata": {
    "collapsed": false
   },
   "outputs": [],
   "source": [
    "dists = pd.DataFrame(df['dist'].apply(lambda x: int(x*1000)/1000)).groupby('dist').size()"
   ]
  },
  {
   "cell_type": "code",
   "execution_count": 65,
   "metadata": {
    "collapsed": false
   },
   "outputs": [
    {
     "data": {
      "text/plain": [
       "<matplotlib.axes._subplots.AxesSubplot at 0x1c9b92940>"
      ]
     },
     "execution_count": 65,
     "metadata": {},
     "output_type": "execute_result"
    },
    {
     "data": {
      "image/png": "[encoded data removed]",
      "text/plain": [
       "<matplotlib.figure.Figure at 0x1c97cbf60>"
      ]
     },
     "metadata": {},
     "output_type": "display_data"
    }
   ],
   "source": [
    "dists.plot()"
   ]
  },
  {
   "cell_type": "code",
   "execution_count": 78,
   "metadata": {
    "collapsed": false
   },
   "outputs": [
    {
     "data": {
      "text/plain": [
       "<matplotlib.axes._subplots.AxesSubplot at 0x1c99bfa90>"
      ]
     },
     "execution_count": 78,
     "metadata": {},
     "output_type": "execute_result"
    },
    {
     "data": {
      "image/png": "[encoded data removed]",
      "text/plain": [
       "<matplotlib.figure.Figure at 0x1c9971a58>"
      ]
     },
     "metadata": {},
     "output_type": "display_data"
    }
   ],
   "source": [
    "dists[0.95 <= dists.index].plot()"
   ]
  },
  {
   "cell_type": "code",
   "execution_count": 77,
   "metadata": {
    "collapsed": false
   },
   "outputs": [
    {
     "data": {
      "text/plain": [
       "<matplotlib.axes._subplots.AxesSubplot at 0x1c99d59e8>"
      ]
     },
     "execution_count": 77,
     "metadata": {},
     "output_type": "execute_result"
    },
    {
     "data": {
      "image/png": "[encoded data removed]",
      "text/plain": [
       "<matplotlib.figure.Figure at 0x1c9986860>"
      ]
     },
     "metadata": {},
     "output_type": "display_data"
    }
   ],
   "source": [
    "dists[(0.6 <= dists.index) & (dists.index <= 0.99)].plot()"
   ]
  },
  {
   "cell_type": "code",
   "execution_count": 76,
   "metadata": {
    "collapsed": false
   },
   "outputs": [
    {
     "data": {
      "text/plain": [
       "0.00020854384795648527"
      ]
     },
     "execution_count": 76,
     "metadata": {},
     "output_type": "execute_result"
    }
   ],
   "source": [
    "df2['dist'].apply(lambda x: x >= 0.75).mean()"
   ]
  }
 ],
 "metadata": {
  "kernelspec": {
   "display_name": "Python 3",
   "language": "python",
   "name": "python3"
  },
  "language_info": {
   "codemirror_mode": {
    "name": "ipython",
    "version": 3
   },
   "file_extension": ".py",
   "mimetype": "text/x-python",
   "name": "python",
   "nbconvert_exporter": "python",
   "pygments_lexer": "ipython3",
   "version": "3.4.3"
  }
 },
 "nbformat": 4,
 "nbformat_minor": 0
}
